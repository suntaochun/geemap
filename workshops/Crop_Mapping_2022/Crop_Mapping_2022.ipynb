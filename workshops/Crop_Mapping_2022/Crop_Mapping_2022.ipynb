{
 "cells": [
  {
   "cell_type": "markdown",
   "id": "59f8bd4a-483c-4d65-8701-4b0449eead86",
   "metadata": {},
   "source": [
    "[![image](https://colab.research.google.com/assets/colab-badge.svg)](https://colab.research.google.com/github/giswqs/geemap/blob/master/examples/workshops/Crop_Mapping_2022.ipynb)\n",
    "[![image](https://mybinder.org/badge_logo.svg)](https://mybinder.org/v2/gh/giswqs/geemap/master?urlpath=lab%2Ftree%2Fexamples%2Fworkshops)"
   ]
  },
  {
   "cell_type": "markdown",
   "id": "1283958e-6bd3-485c-84aa-d777edb6b50d",
   "metadata": {},
   "source": [
    "**Cropland mapping with Google Earth Engine and geemap**\n",
    "\n",
    "Useful links\n",
    "\n",
    "- [Google Earth Engine](https://earthengine.google.com/)\n",
    "- [Sign up for an Earth Engine account](https://earthengine.google.com/signup/)\n",
    "- [Awesome GEE Community Datasets](https://samapriya.github.io/awesome-gee-community-datasets)\n",
    "- [Geemap website](https://geemap.org/)\n",
    "- [Geemap book](https://book.geemap.org/)\n",
    "- [Geemap YouTube videos](https://youtube.com/@giswqs)"
   ]
  },
  {
   "cell_type": "code",
   "execution_count": null,
   "id": "98745b4b-ec57-40bf-8250-c18ffb271d07",
   "metadata": {},
   "outputs": [],
   "source": [
    "# !pip install geemap"
   ]
  },
  {
   "cell_type": "markdown",
   "id": "94b7f13d-7c96-440a-ae72-88238e99440e",
   "metadata": {},
   "source": [
    "## Import libraries"
   ]
  },
  {
   "cell_type": "code",
   "execution_count": null,
   "id": "d80646b2-5d42-42fb-b06d-e665d082d985",
   "metadata": {},
   "outputs": [],
   "source": [
    "import ee\n",
    "import geemap"
   ]
  },
  {
   "cell_type": "markdown",
   "id": "85e604bf-e337-4242-ab9c-5a16eb5d91c8",
   "metadata": {},
   "source": [
    "## ESA WordCover\n",
    "\n",
    "The European Space Agency (ESA) WorldCover 10 m 2020 product provides a global land cover map for 2020 at 10 m resolution based on Sentinel-1 and Sentinel-2 data. The WorldCover product comes with 11 land cover classes and has been generated in the framework of the ESA WorldCover project, part of the 5th Earth Observation Envelope Programme (EOEP-5) of the European Space Agency.\n",
    "\n",
    "- [ESA WorldCover website](https://esa-worldcover.org/)\n",
    "- [EAS WroldCover in the Earth Engine Data Catalog](https://developers.google.com/earth-engine/datasets/catalog/ESA_WorldCover_v100)\n",
    "- [User Manual and Validation Report](https://esa-worldcover.org/en/data-access)"
   ]
  },
  {
   "cell_type": "markdown",
   "id": "3e2acfbe-5272-4b7c-be8a-2f9ebfdab05f",
   "metadata": {},
   "source": [
    "### Using Web Map Services\n",
    "\n",
    "The ESA WorldCover product can also be used within other websites or GIS clients by 'Web Map Services'. These services provide a direct link to the cached images and are the best option if you simply want to map the data and produce cartographic products. They are not suitable for analysis as the data are represented only as RGB images. \n",
    "\n",
    "- WMTS: https://services.terrascope.be/wmts/v2\n",
    "- WMS: https://services.terrascope.be/wms/v2\n",
    "- Layers: WORLDCOVER_2020_MAP, WORLDCOVER_2020_S2_FCC, WORLDCOVER_2020_S2_TCC"
   ]
  },
  {
   "cell_type": "code",
   "execution_count": null,
   "id": "34c2a379-7bf6-4938-a92a-27a2e675a0ff",
   "metadata": {},
   "outputs": [],
   "source": [
    "Map = geemap.Map()\n",
    "\n",
    "esa_wms = 'https://services.terrascope.be/wms/v2'  # The WMS URL\n",
    "tcc_layer = 'WORLDCOVER_2020_S2_TCC'  # The true color composite imagery\n",
    "fcc_layer = 'WORLDCOVER_2020_S2_FCC'  # The false color composite imagery\n",
    "map_layer = 'WORLDCOVER_2020_MAP'  # The land cover classification map\n",
    "\n",
    "Map.add_wms_layer(esa_wms, layers=tcc_layer, name='True Color', attribution='ESA')\n",
    "Map.add_wms_layer(esa_wms, layers=fcc_layer, name='False Color', attribution='ESA')\n",
    "Map.add_wms_layer(esa_wms, layers=map_layer, name='Classification', attribution='ESA')\n",
    "\n",
    "Map.add_legend(title='ESA Land Cover', builtin_legend='ESA_WorldCover')\n",
    "Map"
   ]
  },
  {
   "cell_type": "markdown",
   "id": "db34949e-b1ee-435d-863f-6dc22306f3b5",
   "metadata": {},
   "source": [
    "### Using Earth Engine\n",
    "\n",
    "- [EAS WroldCover in the Earth Engine Data Catalog](https://developers.google.com/earth-engine/datasets/catalog/ESA_WorldCover_v100)"
   ]
  },
  {
   "cell_type": "code",
   "execution_count": null,
   "id": "9d18d014-ece0-4ead-b302-e7ed27288451",
   "metadata": {},
   "outputs": [],
   "source": [
    "Map = geemap.Map()\n",
    "Map.add_basemap('HYBRID')\n",
    "\n",
    "esa = ee.ImageCollection(\"ESA/WorldCover/v100\").first()\n",
    "esa_vis = {'bands': ['Map']}\n",
    "\n",
    "Map.addLayer(esa, esa_vis, \"ESA Land Cover\")\n",
    "Map.add_legend(title=\"ESA Land Cover\", builtin_legend='ESA_WorldCover')\n",
    "\n",
    "Map"
   ]
  },
  {
   "cell_type": "markdown",
   "id": "d890fee8-495f-4e9f-b740-dfbfa1c4f134",
   "metadata": {},
   "source": [
    "### Creating charts"
   ]
  },
  {
   "cell_type": "code",
   "execution_count": null,
   "id": "0ad21eda-34c7-48a6-a7d2-846deded14e9",
   "metadata": {},
   "outputs": [],
   "source": [
    "histogram = geemap.image_histogram(\n",
    "    esa, scale=1000, x_label='Land Cover Type', y_label='Area (km2)'\n",
    ")\n",
    "histogram"
   ]
  },
  {
   "cell_type": "code",
   "execution_count": null,
   "id": "16f47e97-bb6b-4527-b35b-2924bdea5174",
   "metadata": {},
   "outputs": [],
   "source": [
    "df = geemap.image_histogram(esa, scale=1000, return_df=True)\n",
    "df"
   ]
  },
  {
   "cell_type": "code",
   "execution_count": null,
   "id": "ce342355-b5a2-4202-96d8-a4204f4d52dd",
   "metadata": {},
   "outputs": [],
   "source": [
    "esa_labels = list(geemap.builtin_legends['ESA_WorldCover'].keys())\n",
    "esa_labels"
   ]
  },
  {
   "cell_type": "code",
   "execution_count": null,
   "id": "ec518b22-0425-4e04-8433-2787add52f5f",
   "metadata": {},
   "outputs": [],
   "source": [
    "df['label'] = esa_labels\n",
    "df"
   ]
  },
  {
   "cell_type": "code",
   "execution_count": null,
   "id": "d7cce812-0f9c-40d9-a50b-0385e99f036a",
   "metadata": {},
   "outputs": [],
   "source": [
    "round(df['value'].sum() / 1e6, 2)"
   ]
  },
  {
   "cell_type": "code",
   "execution_count": null,
   "id": "2fef781c-2f7d-4d16-94ca-21f559e541c4",
   "metadata": {},
   "outputs": [],
   "source": [
    "geemap.bar_chart(\n",
    "    df, x='label', y='value', x_label='Land Cover Type', y_label='Area (km2)'\n",
    ")"
   ]
  },
  {
   "cell_type": "code",
   "execution_count": null,
   "id": "aa60f33a-bd94-42f2-ab65-ab1efdd383bb",
   "metadata": {},
   "outputs": [],
   "source": [
    "geemap.pie_chart(df, names='label', values='value', height=500)"
   ]
  },
  {
   "cell_type": "markdown",
   "id": "b7b19768-2aaa-4d23-855b-2008d8def125",
   "metadata": {},
   "source": [
    "### Adding Administrative Boundaries"
   ]
  },
  {
   "cell_type": "code",
   "execution_count": null,
   "id": "523214ce-361b-4cb8-9772-451beace4596",
   "metadata": {},
   "outputs": [],
   "source": [
    "countries = ee.FeatureCollection(geemap.examples.get_ee_path('countries'))\n",
    "africa = countries.filter(ee.Filter.eq('CONTINENT', 'Africa'))\n",
    "style = {'fillColor': '00000000'}\n",
    "Map.addLayer(countries.style(**style), {}, 'Countries', False)\n",
    "Map.addLayer(africa.style(**style), {}, 'Africa')\n",
    "Map.centerObject(africa)\n",
    "Map"
   ]
  },
  {
   "cell_type": "markdown",
   "id": "bfc87f69-0a44-4378-8318-685540d31d48",
   "metadata": {},
   "source": [
    "### Extracting Croplands"
   ]
  },
  {
   "cell_type": "code",
   "execution_count": null,
   "id": "cf54248d-68f9-46f6-b46c-57c21ffef282",
   "metadata": {},
   "outputs": [],
   "source": [
    "cropland = esa.eq(40).clipToCollection(africa).selfMask()\n",
    "Map.addLayer(cropland, {'palette': ['f096ff']}, 'Cropland')\n",
    "Map.show_layer(name='ESA Land Cover', show=False)"
   ]
  },
  {
   "cell_type": "markdown",
   "id": "11cef7ce-8bc4-4e65-bb9a-121eefec17f5",
   "metadata": {},
   "source": [
    "### Zonal Statistics"
   ]
  },
  {
   "cell_type": "code",
   "execution_count": null,
   "id": "ad81216b-90b8-431b-9fb4-8c4e5498f5dd",
   "metadata": {},
   "outputs": [],
   "source": [
    "geemap.zonal_stats(\n",
    "    cropland, africa, 'esa_cropland.csv', statistics_type='SUM', scale=1000\n",
    ")"
   ]
  },
  {
   "cell_type": "code",
   "execution_count": null,
   "id": "41fcd24d-2d9f-4ea6-bf6a-2037a3d59498",
   "metadata": {},
   "outputs": [],
   "source": [
    "df = geemap.csv_to_df('esa_cropland.csv')\n",
    "df.head()"
   ]
  },
  {
   "cell_type": "code",
   "execution_count": null,
   "id": "e6bee20d-9c8a-4ccf-8500-86c10c2774fa",
   "metadata": {},
   "outputs": [],
   "source": [
    "geemap.bar_chart(\n",
    "    df, x='NAME', y='sum', max_rows=30, x_label='Country', y_label='Area (km2)'\n",
    ")"
   ]
  },
  {
   "cell_type": "code",
   "execution_count": null,
   "id": "bca9ea9d-e6ba-44b2-a955-ffd1385a890d",
   "metadata": {},
   "outputs": [],
   "source": [
    "geemap.pie_chart(df, names='NAME', values='sum', max_rows=20, height=500)"
   ]
  },
  {
   "cell_type": "markdown",
   "id": "3bddca8a-4581-40c6-9159-fa4c5f1cd7de",
   "metadata": {},
   "source": [
    "## ESRI GLobal Land Cover\n",
    "\n",
    "The ESRI GLobal Land Cover dataset is a global map of land use/land cover (LULC) derived from ESA Sentinel-2 imagery at 10m resolution. Each year is generated from Impact Observatory’s deep learning AI land classification model used a massive training dataset of billions of human-labeled image pixels developed by the National Geographic Society. The global maps were produced by applying this model to the Sentinel-2 scene collection on Microsoft’s Planetary Computer, processing over 400,000 Earth observations per year. \n",
    "\n",
    "- https://livingatlas.arcgis.com/landcover/\n",
    "- https://www.arcgis.com/home/item.html?id=d3da5dd386d140cf93fc9ecbf8da5e31\n",
    "- https://samapriya.github.io/awesome-gee-community-datasets/projects/S2TSLULC/"
   ]
  },
  {
   "cell_type": "markdown",
   "id": "67094578-82c5-401a-82c6-70a5a753f3d3",
   "metadata": {},
   "source": [
    "### Using Awesome GEE Community Datasets"
   ]
  },
  {
   "cell_type": "code",
   "execution_count": null,
   "id": "0db41eef-54f3-4cb4-9e58-d7f4e183ab48",
   "metadata": {},
   "outputs": [],
   "source": [
    "Map = geemap.Map()\n",
    "Map.add_basemap('HYBRID')\n",
    "\n",
    "esri = ee.ImageCollection(\n",
    "    'projects/sat-io/open-datasets/landcover/ESRI_Global-LULC_10m_TS'\n",
    ")\n",
    "\n",
    "esri_2017 = esri.filterDate('2017-01-01', '2017-12-31').mosaic()\n",
    "esri_2018 = esri.filterDate('2018-01-01', '2018-12-31').mosaic()\n",
    "esri_2019 = esri.filterDate('2019-01-01', '2019-12-31').mosaic()\n",
    "esri_2020 = esri.filterDate('2020-01-01', '2020-12-31').mosaic()\n",
    "esri_2021 = esri.filterDate('2021-01-01', '2021-12-31').mosaic()\n",
    "\n",
    "esri_vis = {'min': 1, 'max': 11, 'palette': 'esri_lulc'}\n",
    "\n",
    "Map.addLayer(esri_2017, esri_vis, 'ESRI LULC 2017')\n",
    "Map.addLayer(esri_2018, esri_vis, 'ESRI LULC 2018')\n",
    "Map.addLayer(esri_2019, esri_vis, 'ESRI LULC 2019')\n",
    "Map.addLayer(esri_2020, esri_vis, 'ESRI LULC 2020')\n",
    "Map.addLayer(esri_2021, esri_vis, 'ESRI LULC 2021')\n",
    "\n",
    "Map.add_legend(title='ESRI Land Cover', builtin_legend='ESRI_LandCover_TS')\n",
    "Map"
   ]
  },
  {
   "cell_type": "markdown",
   "id": "3a1bbf82-2aa2-4af5-a107-33f58d01cd25",
   "metadata": {},
   "source": [
    "### Using Timeseries Inspector"
   ]
  },
  {
   "cell_type": "code",
   "execution_count": null,
   "id": "9c09186d-5935-4962-8f43-447b1810e975",
   "metadata": {},
   "outputs": [],
   "source": [
    "images = ee.List([esri_2017, esri_2018, esri_2019, esri_2020, esri_2021])\n",
    "collection = ee.ImageCollection.fromImages(images)"
   ]
  },
  {
   "cell_type": "code",
   "execution_count": null,
   "id": "dc294084-0750-4658-8dff-da34854f4c6c",
   "metadata": {},
   "outputs": [],
   "source": [
    "years = [str(year) for year in range(2017, 2022)]\n",
    "years"
   ]
  },
  {
   "cell_type": "code",
   "execution_count": null,
   "id": "75f9db61-cd32-454e-af06-986c3b01a48b",
   "metadata": {},
   "outputs": [],
   "source": [
    "Map = geemap.Map()\n",
    "Map.ts_inspector(collection, years, esri_vis, width='80px')\n",
    "Map.add_legend(title='ESRI Land Cover', builtin_legend='ESRI_LandCover_TS')\n",
    "Map"
   ]
  },
  {
   "cell_type": "markdown",
   "id": "18a82941-1758-4110-aa62-ae0c39dfbbf2",
   "metadata": {},
   "source": [
    "### Extracting Croplands"
   ]
  },
  {
   "cell_type": "code",
   "execution_count": null,
   "id": "92a58bf4-0bfa-4c7b-b882-5b7a6d2bec34",
   "metadata": {},
   "outputs": [],
   "source": [
    "countries = ee.FeatureCollection(geemap.examples.get_ee_path('countries'))\n",
    "africa = countries.filter(ee.Filter.eq('CONTINENT', 'Africa'))"
   ]
  },
  {
   "cell_type": "code",
   "execution_count": null,
   "id": "fc751c9b-6de2-43a9-ae8a-38d3a318660e",
   "metadata": {},
   "outputs": [],
   "source": [
    "cropland_col = collection.map(lambda img: img.eq(5).clipToCollection(africa).selfMask())\n",
    "cropland_ts = cropland_col.toBands().rename(years)"
   ]
  },
  {
   "cell_type": "code",
   "execution_count": null,
   "id": "189a143f-f90a-472a-a857-269dbf6b19bf",
   "metadata": {},
   "outputs": [],
   "source": [
    "Map = geemap.Map()\n",
    "\n",
    "style = {'fillColor': '00000000'}\n",
    "Map.addLayer(cropland_col.first(), {'palette': ['#ab6c28']}, 'first')\n",
    "Map.addLayer(countries.style(**style), {}, 'Countries', False)\n",
    "Map.addLayer(africa.style(**style), {}, 'Africa')\n",
    "Map.centerObject(africa)\n",
    "\n",
    "Map"
   ]
  },
  {
   "cell_type": "code",
   "execution_count": null,
   "id": "b9d6014b-2b33-4199-ab84-ada58a30a4af",
   "metadata": {},
   "outputs": [],
   "source": [
    "cropland_ts.bandNames().getInfo()"
   ]
  },
  {
   "cell_type": "markdown",
   "id": "48319fae-a278-4723-a907-4b15f30ff6dd",
   "metadata": {},
   "source": [
    "### Zonal Statistics"
   ]
  },
  {
   "cell_type": "code",
   "execution_count": null,
   "id": "8c6d192f-d7ac-405a-a43f-a1cb27caf750",
   "metadata": {},
   "outputs": [],
   "source": [
    "geemap.zonal_stats(\n",
    "    cropland_ts, africa, 'esri_cropland.csv', statistics_type='SUM', scale=1000\n",
    ")"
   ]
  },
  {
   "cell_type": "code",
   "execution_count": null,
   "id": "ff2342cc-5e72-4f08-9d90-ef06668e237b",
   "metadata": {},
   "outputs": [],
   "source": [
    "df = geemap.csv_to_df('esri_cropland.csv')\n",
    "df.head()"
   ]
  },
  {
   "cell_type": "code",
   "execution_count": null,
   "id": "06c2ac3a-b11c-4008-beb4-0da4d718276e",
   "metadata": {},
   "outputs": [],
   "source": [
    "geemap.bar_chart(df, x='NAME', y=years, max_rows=20, legend_title='Year')"
   ]
  },
  {
   "cell_type": "code",
   "execution_count": null,
   "id": "95f03172-437e-45fb-be2e-e612810546ff",
   "metadata": {},
   "outputs": [],
   "source": [
    "geemap.pie_chart(df, names='NAME', values='2020', max_rows=20, height=500)"
   ]
  },
  {
   "cell_type": "markdown",
   "id": "c6a5e916-c6d3-4f2b-b20a-5e0ce12e2dbf",
   "metadata": {},
   "source": [
    "### Analyzing Cropland Gain and Loss"
   ]
  },
  {
   "cell_type": "code",
   "execution_count": null,
   "id": "c3b745a5-bd40-4fb4-83fc-252299f32c28",
   "metadata": {},
   "outputs": [],
   "source": [
    "Map = geemap.Map()\n",
    "Map.add_basemap('HYBRID')\n",
    "\n",
    "cropland_2017 = esri_2017.eq(5).selfMask()\n",
    "cropland_2021 = esri_2021.eq(5).selfMask()\n",
    "\n",
    "cropland_gain = esri_2017.neq(5).And(esri_2021.eq(5)).selfMask()\n",
    "cropland_loss = esri_2017.eq(5).And(esri_2021.neq(5)).selfMask()\n",
    "\n",
    "Map.addLayer(cropland_2017, {'palette': 'brown'}, 'Cropland 2017', False)\n",
    "Map.addLayer(cropland_2021, {'palette': 'cyan'}, 'Cropland 2021', False)\n",
    "\n",
    "Map.addLayer(cropland_gain, {'palette': 'yellow'}, 'Cropland gain')\n",
    "Map.addLayer(cropland_loss, {'palette': 'red'}, 'Cropland loss')\n",
    "Map"
   ]
  },
  {
   "cell_type": "code",
   "execution_count": null,
   "id": "41b2936e-9232-42a4-9293-402497443ca0",
   "metadata": {},
   "outputs": [],
   "source": [
    "geemap.zonal_stats(\n",
    "    cropland_gain,\n",
    "    countries,\n",
    "    'esri_cropland_gain.csv',\n",
    "    statistics_type='SUM',\n",
    "    scale=1000,\n",
    ")"
   ]
  },
  {
   "cell_type": "code",
   "execution_count": null,
   "id": "f2dc8010-0004-4803-aad7-7f2ed5aaadf5",
   "metadata": {},
   "outputs": [],
   "source": [
    "df = geemap.csv_to_df('esri_cropland_gain.csv')\n",
    "df.head()"
   ]
  },
  {
   "cell_type": "code",
   "execution_count": null,
   "id": "b98d777c-4bb7-4753-acf7-061023727177",
   "metadata": {},
   "outputs": [],
   "source": [
    "geemap.bar_chart(\n",
    "    df,\n",
    "    x='NAME',\n",
    "    y='sum',\n",
    "    max_rows=30,\n",
    "    x_label='Country',\n",
    "    y_label='Area (km2)',\n",
    "    title='Cropland Gain',\n",
    ")"
   ]
  },
  {
   "cell_type": "code",
   "execution_count": null,
   "id": "efd54629-7d2f-4d8c-9685-739610451db8",
   "metadata": {},
   "outputs": [],
   "source": [
    "geemap.pie_chart(\n",
    "    df, names='NAME', values='sum', max_rows=30, height=500, title='Cropland Gain'\n",
    ")"
   ]
  },
  {
   "cell_type": "code",
   "execution_count": null,
   "id": "5c7783b6-3ba4-4657-a7f6-990fccd5fd69",
   "metadata": {},
   "outputs": [],
   "source": [
    "geemap.zonal_stats(\n",
    "    cropland_loss,\n",
    "    countries,\n",
    "    'esri_cropland_loss.csv',\n",
    "    statistics_type='SUM',\n",
    "    scale=1000,\n",
    ")"
   ]
  },
  {
   "cell_type": "code",
   "execution_count": null,
   "id": "2ddf5daa-8980-43c0-8964-3a728be2bb59",
   "metadata": {},
   "outputs": [],
   "source": [
    "df = geemap.csv_to_df('esri_cropland_loss.csv')\n",
    "df.head()"
   ]
  },
  {
   "cell_type": "code",
   "execution_count": null,
   "id": "47e4e10a-05d2-42ca-aeb4-dd5197bd6db6",
   "metadata": {},
   "outputs": [],
   "source": [
    "geemap.bar_chart(\n",
    "    df,\n",
    "    x='NAME',\n",
    "    y='sum',\n",
    "    max_rows=30,\n",
    "    x_label='Country',\n",
    "    y_label='Area (km2)',\n",
    "    title='Cropland Loss',\n",
    ")"
   ]
  },
  {
   "cell_type": "code",
   "execution_count": null,
   "id": "59998e12-5d9a-441c-bc0e-78424751b845",
   "metadata": {},
   "outputs": [],
   "source": [
    "geemap.pie_chart(\n",
    "    df, names='NAME', values='sum', max_rows=30, height=500, title='Cropland Loss'\n",
    ")"
   ]
  },
  {
   "cell_type": "markdown",
   "id": "a554e8f7-cf86-4442-9d87-d60f0d2812b1",
   "metadata": {},
   "source": [
    "## Dynamic World Land Cover\n",
    "\n",
    "Dynamic World is a near realtime 10m resolution global land use land cover dataset, produced using deep learning, freely available and openly licensed. As a result of leveraging a novel deep learning approach, based on Sentinel-2 Top of Atmosphere, Dynamic World offers global land cover updating every 2-5 days depending on location. \n",
    "\n",
    "- [Dynamic World Website](https://www.dynamicworld.app/)\n",
    "- [Dynamic World datasets on Earth Engine](https://developers.google.com/earth-engine/datasets/catalog/GOOGLE_DYNAMICWORLD_V1)"
   ]
  },
  {
   "cell_type": "markdown",
   "id": "cb68533a-9ec9-46b7-97b1-878c46115707",
   "metadata": {},
   "source": [
    "### Classification and Probability"
   ]
  },
  {
   "cell_type": "code",
   "execution_count": null,
   "id": "35295518-f1b8-4cf3-b394-ea9a8c05e9c2",
   "metadata": {},
   "outputs": [],
   "source": [
    "Map = geemap.Map()\n",
    "\n",
    "region = ee.Geometry.BBox(-179, -89, 179, 89)\n",
    "start_date = '2021-01-01'\n",
    "end_date = '2022-01-01'\n",
    "\n",
    "dw_class = geemap.dynamic_world(region, start_date, end_date, return_type='class')\n",
    "dw = geemap.dynamic_world(region, start_date, end_date, return_type='hillshade')\n",
    "\n",
    "dw_vis = {\"min\": 0, \"max\": 8, \"palette\": 'dw'}\n",
    "\n",
    "Map.addLayer(dw_class, dw_vis, 'DW Land Cover', False)\n",
    "Map.addLayer(dw, {}, 'DW Land Cover Hillshade')\n",
    "\n",
    "Map.add_legend(title=\"Dynamic World Land Cover\", builtin_legend='Dynamic_World')\n",
    "Map.setCenter(-88.9088, 43.0006, 12)\n",
    "Map"
   ]
  },
  {
   "cell_type": "markdown",
   "id": "1caeec6b-d405-474b-bb42-9f9d293f8292",
   "metadata": {},
   "source": [
    "### ESA Land Cover vs. Dynamic World"
   ]
  },
  {
   "cell_type": "code",
   "execution_count": null,
   "id": "399b5d57-6e68-46dc-95c7-2893b9e280b9",
   "metadata": {},
   "outputs": [],
   "source": [
    "Map = geemap.Map(center=[39.3322, -106.7349], zoom=10)\n",
    "\n",
    "left_layer = geemap.ee_tile_layer(esa, esa_vis, \"ESA Land Cover\")\n",
    "right_layer = geemap.ee_tile_layer(dw, {}, \"Dynamic World Land Cover\")\n",
    "\n",
    "Map.split_map(left_layer, right_layer)\n",
    "Map.add_legend(\n",
    "    title=\"ESA Land Cover\", builtin_legend='ESA_WorldCover', position='bottomleft'\n",
    ")\n",
    "Map.add_legend(\n",
    "    title=\"Dynamic World Land Cover\",\n",
    "    builtin_legend='Dynamic_World',\n",
    "    position='bottomright',\n",
    ")\n",
    "Map.setCenter(-88.9088, 43.0006, 12)\n",
    "\n",
    "Map"
   ]
  },
  {
   "cell_type": "markdown",
   "id": "9dd2817d-132b-4b43-b7a0-46a2b1755ef2",
   "metadata": {},
   "source": [
    "### ESRI Land Cover vs. Dynamic World"
   ]
  },
  {
   "cell_type": "code",
   "execution_count": null,
   "id": "cb162727-3f01-487e-96ce-829003e685df",
   "metadata": {},
   "outputs": [],
   "source": [
    "Map = geemap.Map(center=[-89.3998, 43.0886], zoom=10)\n",
    "\n",
    "left_layer = geemap.ee_tile_layer(esri_2021, esri_vis, \"ESRI Land Cover\")\n",
    "right_layer = geemap.ee_tile_layer(dw, {}, \"Dynamic World Land Cover\")\n",
    "\n",
    "Map.split_map(left_layer, right_layer)\n",
    "Map.add_legend(\n",
    "    title=\"ESRI Land Cover\", builtin_legend='ESRI_LandCover', position='bottomleft'\n",
    ")\n",
    "Map.add_legend(\n",
    "    title=\"Dynamic World Land Cover\",\n",
    "    builtin_legend='Dynamic_World',\n",
    "    position='bottomright',\n",
    ")\n",
    "Map.setCenter(-88.9088, 43.0006, 12)\n",
    "\n",
    "Map"
   ]
  }
 ],
 "metadata": {
  "kernelspec": {
   "display_name": "Python 3",
   "language": "python",
   "name": "python3"
  },
  "language_info": {
   "codemirror_mode": {
    "name": "ipython",
    "version": 3
   },
   "file_extension": ".py",
   "mimetype": "text/x-python",
   "name": "python",
   "nbconvert_exporter": "python",
   "pygments_lexer": "ipython3",
   "version": "3.9.10"
  }
 },
 "nbformat": 4,
 "nbformat_minor": 5
}
