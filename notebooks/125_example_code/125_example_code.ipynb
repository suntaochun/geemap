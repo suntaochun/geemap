{
 "cells": [
  {
   "cell_type": "markdown",
   "metadata": {},
   "source": [
    "<a href=\"https://githubtocolab.com/giswqs/geemap/blob/master/examples/notebooks/125_using_example_cde_.ipynb\" target=\"_parent\"><img src=\"https://colab.research.google.com/assets/colab-badge.svg\" alt=\"Open in Colab\"/></a>\n",
    "\n",
    "**Using Earth engine examples**\n",
    "\n",
    "\n",
    "- ee datasets seem to come from https://code.earthengine.google.com/scripts/load\n",
    "- When logged into gee, this link returns a f.json. It contains all code examples from the docs, including the datasets.\n",
    "- community datasets can be accessed using git from https://earthengine.googlesource.com\n",
    "- which in many cases can be translated into python code\n",
    "- this should make it feasible to use the code examples directly into geemap\n",
    "\n",
    "Uncomment the following line to install [geemap](https://geemap.org) if needed."
   ]
  },
  {
   "cell_type": "code",
   "execution_count": null,
   "metadata": {},
   "outputs": [],
   "source": [
    "# !pip install -U geemap"
   ]
  },
  {
   "cell_type": "code",
   "execution_count": null,
   "metadata": {},
   "outputs": [],
   "source": [
    "import ee\n",
    "import geemap\n",
    "import json"
   ]
  },
  {
   "cell_type": "markdown",
   "metadata": {},
   "source": [
    "## Manually download f.json \n",
    "https://code.earthengine.google.com/scripts/load"
   ]
  },
  {
   "cell_type": "markdown",
   "metadata": {},
   "source": [
    "## Explore json contents\n",
    "\n",
    "Change file download location. Also added f.json to repo."
   ]
  },
  {
   "cell_type": "code",
   "execution_count": null,
   "metadata": {},
   "outputs": [],
   "source": [
    "url = 'https://github.com/giswqs/geemap/blob/master/geemap/data/gee_f.json'\n",
    "geemap.download_file(url)"
   ]
  },
  {
   "cell_type": "code",
   "execution_count": null,
   "metadata": {},
   "outputs": [],
   "source": [
    "with open('gee_f.json', encoding=\"utf-8\") as f:\n",
    "    functions = json.load(f)\n",
    "\n",
    "functions.keys()"
   ]
  },
  {
   "cell_type": "code",
   "execution_count": null,
   "metadata": {},
   "outputs": [],
   "source": [
    "[(x['name'], len(x['contents'])) for x in functions['examples']]"
   ]
  },
  {
   "cell_type": "markdown",
   "metadata": {},
   "source": [
    "## Details"
   ]
  },
  {
   "cell_type": "code",
   "execution_count": null,
   "metadata": {},
   "outputs": [],
   "source": [
    "details = [\n",
    "    (dataset['name'], dataset['code'])\n",
    "    for x in functions['examples']\n",
    "    for dataset in x['contents']\n",
    "    if x['name'] == 'Datasets'\n",
    "]\n",
    "details[0]"
   ]
  },
  {
   "cell_type": "markdown",
   "metadata": {},
   "source": [
    "## Convert js to py"
   ]
  },
  {
   "cell_type": "code",
   "execution_count": null,
   "metadata": {},
   "outputs": [],
   "source": [
    "def get_py(js):\n",
    "    try:\n",
    "        return geemap.js_snippet_to_py(\n",
    "            js, add_new_cell=False, import_ee=False, import_geemap=False, show_map=False\n",
    "        )\n",
    "    except:\n",
    "        return None\n",
    "\n",
    "\n",
    "results_convert = [get_py(js) for _, js in details]"
   ]
  },
  {
   "cell_type": "code",
   "execution_count": null,
   "metadata": {},
   "outputs": [],
   "source": [
    "len(details), len(results_convert)"
   ]
  },
  {
   "cell_type": "markdown",
   "metadata": {},
   "source": [
    "Except for 2 cases, converts ran without error."
   ]
  },
  {
   "cell_type": "code",
   "execution_count": null,
   "metadata": {},
   "outputs": [],
   "source": [
    "len([x for x in results_convert if x])"
   ]
  },
  {
   "cell_type": "markdown",
   "metadata": {},
   "source": [
    "## Verify availability"
   ]
  },
  {
   "cell_type": "code",
   "execution_count": null,
   "metadata": {},
   "outputs": [],
   "source": [
    "from geemap import datasets\n",
    "\n",
    "len(datasets.get_ee_stac_list())"
   ]
  },
  {
   "cell_type": "code",
   "execution_count": null,
   "metadata": {},
   "outputs": [],
   "source": [
    "known_datasets = set(name.replace('/', '_') for name in datasets.get_ee_stac_list())\n",
    "known_code = set(name for name, _ in details)"
   ]
  },
  {
   "cell_type": "markdown",
   "metadata": {},
   "source": [
    "## Only some have exact matches"
   ]
  },
  {
   "cell_type": "code",
   "execution_count": null,
   "metadata": {},
   "outputs": [],
   "source": [
    "len(known_code & known_datasets)"
   ]
  },
  {
   "cell_type": "markdown",
   "metadata": {},
   "source": [
    "Sometimes there is a 2 example available for a dataset, mostly FeatureViews."
   ]
  },
  {
   "cell_type": "code",
   "execution_count": null,
   "metadata": {},
   "outputs": [],
   "source": [
    "excess = known_code - known_datasets"
   ]
  },
  {
   "cell_type": "code",
   "execution_count": null,
   "metadata": {},
   "outputs": [],
   "source": [
    "len(excess)"
   ]
  },
  {
   "cell_type": "code",
   "execution_count": null,
   "metadata": {},
   "outputs": [],
   "source": [
    "excess_no_featureview = set(x.replace('_FeatureView', '') for x in known_code)\n",
    "len(excess_no_featureview - known_datasets)"
   ]
  },
  {
   "cell_type": "markdown",
   "metadata": {},
   "source": [
    "Leftovers"
   ]
  },
  {
   "cell_type": "code",
   "execution_count": null,
   "metadata": {},
   "outputs": [],
   "source": [
    "(excess_no_featureview - known_datasets)"
   ]
  },
  {
   "cell_type": "markdown",
   "metadata": {},
   "source": [
    "## Datasets without examples"
   ]
  },
  {
   "cell_type": "code",
   "execution_count": null,
   "metadata": {},
   "outputs": [],
   "source": [
    "missing_code = known_datasets - known_code\n",
    "len(missing_code)"
   ]
  },
  {
   "cell_type": "markdown",
   "metadata": {},
   "source": [
    "These are also missing in gee itself (logically as these load from f.json). \n",
    "\n",
    "- https://code.earthengine.google.com/?scriptPath=Examples%3ADatasets%2FLANDSAT_LC8\n",
    "\n",
    "Deprecated stuff afaik, s.a. Landsat LT1"
   ]
  },
  {
   "cell_type": "code",
   "execution_count": null,
   "metadata": {},
   "outputs": [],
   "source": [
    "missing_code"
   ]
  },
  {
   "cell_type": "code",
   "execution_count": null,
   "metadata": {},
   "outputs": [],
   "source": [
    "from geemap import common\n",
    "\n",
    "[x['title'] for x in common.search_ee_data('LANDSAT L1T')][:5]"
   ]
  },
  {
   "cell_type": "code",
   "execution_count": null,
   "metadata": {
    "scrolled": true
   },
   "outputs": [],
   "source": [
    "[(x['uid'], x['title']) for x in common.search_ee_data('MODIS MYD')][:5]"
   ]
  }
 ],
 "metadata": {
  "anaconda-cloud": {},
  "kernelspec": {
   "display_name": "Python 3",
   "language": "python",
   "name": "python3"
  },
  "language_info": {
   "codemirror_mode": {
    "name": "ipython",
    "version": 3
   },
   "file_extension": ".py",
   "mimetype": "text/x-python",
   "name": "python",
   "nbconvert_exporter": "python",
   "pygments_lexer": "ipython3",
   "version": "3.9.12"
  },
  "vscode": {
   "interpreter": {
    "hash": "b140e27edd2e2c781b067500afeeb13a230e756519a5957c5e99e6a5940dd744"
   }
  }
 },
 "nbformat": 4,
 "nbformat_minor": 4
}
